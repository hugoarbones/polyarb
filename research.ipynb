{
 "cells": [
  {
   "cell_type": "code",
   "execution_count": 20,
   "id": "7a8421b0",
   "metadata": {},
   "outputs": [],
   "source": [
    "import pytz\n",
    "from datetime import datetime\n",
    "import json\n",
    "\n",
    "from utils import datetime_to_utc_timestamp_ms\n",
    "from data_fetcher import get_btc_option_instruments\n",
    "from replication import replicate_binary_option, plot_binary_replication_payoff"
   ]
  },
  {
   "cell_type": "code",
   "execution_count": 21,
   "id": "d0ed7fc7",
   "metadata": {},
   "outputs": [
    {
     "ename": "HTTPError",
     "evalue": "429 Client Error: Too Many Requests for url: https://www.deribit.com/api/v2/public/ticker?instrument_name=BTC-30MAY25-98000-C",
     "output_type": "error",
     "traceback": [
      "\u001b[31m---------------------------------------------------------------------------\u001b[39m",
      "\u001b[31mHTTPError\u001b[39m                                 Traceback (most recent call last)",
      "\u001b[36mCell\u001b[39m\u001b[36m \u001b[39m\u001b[32mIn[21]\u001b[39m\u001b[32m, line 8\u001b[39m\n\u001b[32m      4\u001b[39m expiry_dt = datetime(\u001b[32m2025\u001b[39m, \u001b[32m5\u001b[39m, \u001b[32m25\u001b[39m, \u001b[32m7\u001b[39m, \u001b[32m0\u001b[39m, tzinfo=pytz.utc)\n\u001b[32m      5\u001b[39m expiry_timestamp_ms = datetime_to_utc_timestamp_ms(expiry_dt)\n\u001b[32m----> \u001b[39m\u001b[32m8\u001b[39m btc_options_df = \u001b[43mget_btc_option_instruments\u001b[49m\u001b[43m(\u001b[49m\u001b[43m)\u001b[49m\u001b[38;5;66;03m#expiry_timestamp_ms)\u001b[39;00m\n\u001b[32m     11\u001b[39m replication = replicate_binary_option(\n\u001b[32m     12\u001b[39m     vanilla_option_data=btc_options_df,\n\u001b[32m     13\u001b[39m     option_type=\u001b[33m'\u001b[39m\u001b[33mcall\u001b[39m\u001b[33m'\u001b[39m,\n\u001b[32m   (...)\u001b[39m\u001b[32m     16\u001b[39m     replication_precision=\u001b[32m50\u001b[39m  \n\u001b[32m     17\u001b[39m )\n\u001b[32m     18\u001b[39m \u001b[38;5;28mprint\u001b[39m(\u001b[33m\"\u001b[39m\u001b[33mReplication details:\u001b[39m\u001b[33m\"\u001b[39m)\n",
      "\u001b[36mFile \u001b[39m\u001b[32m/workspaces/polyarb/data_fetcher.py:84\u001b[39m, in \u001b[36mget_btc_option_instruments\u001b[39m\u001b[34m(strike, expiration_timestamp)\u001b[39m\n\u001b[32m     82\u001b[39m filtered_instruments = filter_instruments(instruments, strike=strike, expiration_timestamp=expiration_timestamp)\n\u001b[32m     83\u001b[39m \u001b[38;5;28;01mfor\u001b[39;00m instrument \u001b[38;5;129;01min\u001b[39;00m filtered_instruments:\n\u001b[32m---> \u001b[39m\u001b[32m84\u001b[39m     extra_data = \u001b[43mget_ticker\u001b[49m\u001b[43m(\u001b[49m\u001b[43minstrument\u001b[49m\u001b[43m[\u001b[49m\u001b[33;43m'\u001b[39;49m\u001b[33;43minstrument_name\u001b[39;49m\u001b[33;43m'\u001b[39;49m\u001b[43m]\u001b[49m\u001b[43m)\u001b[49m\n\u001b[32m     85\u001b[39m     instrument.update(extra_data)\n\u001b[32m     86\u001b[39m \u001b[38;5;28;01mreturn\u001b[39;00m json_to_dataframe(filtered_instruments)\n",
      "\u001b[36mFile \u001b[39m\u001b[32m/workspaces/polyarb/data_fetcher.py:41\u001b[39m, in \u001b[36mget_ticker\u001b[39m\u001b[34m(instrument_name)\u001b[39m\n\u001b[32m     39\u001b[39m url = \u001b[33mf\u001b[39m\u001b[33m\"\u001b[39m\u001b[38;5;132;01m{\u001b[39;00mconfig.BASE_URL\u001b[38;5;132;01m}\u001b[39;00m\u001b[33m/public/ticker?instrument_name=\u001b[39m\u001b[38;5;132;01m{\u001b[39;00minstrument_name\u001b[38;5;132;01m}\u001b[39;00m\u001b[33m\"\u001b[39m\n\u001b[32m     40\u001b[39m response = requests.get(url)\n\u001b[32m---> \u001b[39m\u001b[32m41\u001b[39m \u001b[43mresponse\u001b[49m\u001b[43m.\u001b[49m\u001b[43mraise_for_status\u001b[49m\u001b[43m(\u001b[49m\u001b[43m)\u001b[49m\n\u001b[32m     42\u001b[39m data = response.json()\n\u001b[32m     44\u001b[39m \u001b[38;5;28;01mif\u001b[39;00m \u001b[33m'\u001b[39m\u001b[33mresult\u001b[39m\u001b[33m'\u001b[39m \u001b[38;5;129;01min\u001b[39;00m data \u001b[38;5;129;01mand\u001b[39;00m data[\u001b[33m'\u001b[39m\u001b[33mresult\u001b[39m\u001b[33m'\u001b[39m]:\n",
      "\u001b[36mFile \u001b[39m\u001b[32m~/.local/lib/python3.12/site-packages/requests/models.py:1024\u001b[39m, in \u001b[36mResponse.raise_for_status\u001b[39m\u001b[34m(self)\u001b[39m\n\u001b[32m   1019\u001b[39m     http_error_msg = (\n\u001b[32m   1020\u001b[39m         \u001b[33mf\u001b[39m\u001b[33m\"\u001b[39m\u001b[38;5;132;01m{\u001b[39;00m\u001b[38;5;28mself\u001b[39m.status_code\u001b[38;5;132;01m}\u001b[39;00m\u001b[33m Server Error: \u001b[39m\u001b[38;5;132;01m{\u001b[39;00mreason\u001b[38;5;132;01m}\u001b[39;00m\u001b[33m for url: \u001b[39m\u001b[38;5;132;01m{\u001b[39;00m\u001b[38;5;28mself\u001b[39m.url\u001b[38;5;132;01m}\u001b[39;00m\u001b[33m\"\u001b[39m\n\u001b[32m   1021\u001b[39m     )\n\u001b[32m   1023\u001b[39m \u001b[38;5;28;01mif\u001b[39;00m http_error_msg:\n\u001b[32m-> \u001b[39m\u001b[32m1024\u001b[39m     \u001b[38;5;28;01mraise\u001b[39;00m HTTPError(http_error_msg, response=\u001b[38;5;28mself\u001b[39m)\n",
      "\u001b[31mHTTPError\u001b[39m: 429 Client Error: Too Many Requests for url: https://www.deribit.com/api/v2/public/ticker?instrument_name=BTC-30MAY25-98000-C"
     ]
    }
   ],
   "source": [
    "# 2. Define the strike price and expiry date/time you want to work with\n",
    "target_strike = 100000\n",
    "# GMT \n",
    "expiry_dt = datetime(2025, 5, 25, 7, 0, tzinfo=pytz.utc)\n",
    "expiry_timestamp_ms = datetime_to_utc_timestamp_ms(expiry_dt)\n",
    "\n",
    "\n",
    "btc_options_df = get_btc_option_instruments()#expiry_timestamp_ms)\n",
    "\n",
    "\n",
    "replication = replicate_binary_option(\n",
    "    vanilla_option_data=btc_options_df,\n",
    "    option_type='call',\n",
    "    strike=target_strike,\n",
    "    expiry_timestamp=expiry_timestamp_ms,\n",
    "    replication_precision=50  \n",
    ")\n",
    "print(\"Replication details:\")\n",
    "print(json.dumps(replication, indent=4))\n",
    "\n",
    "\n",
    "# 5. Plot the binary option payoff vs replication\n",
    "plot_binary_replication_payoff(\n",
    "    strike=target_strike,\n",
    "    option_type='call',\n",
    "    replication=replication,\n",
    ")\n"
   ]
  },
  {
   "cell_type": "code",
   "execution_count": null,
   "id": "24cef300",
   "metadata": {},
   "outputs": [],
   "source": []
  }
 ],
 "metadata": {
  "kernelspec": {
   "display_name": "Python 3",
   "language": "python",
   "name": "python3"
  },
  "language_info": {
   "codemirror_mode": {
    "name": "ipython",
    "version": 3
   },
   "file_extension": ".py",
   "mimetype": "text/x-python",
   "name": "python",
   "nbconvert_exporter": "python",
   "pygments_lexer": "ipython3",
   "version": "3.12.1"
  }
 },
 "nbformat": 4,
 "nbformat_minor": 5
}
